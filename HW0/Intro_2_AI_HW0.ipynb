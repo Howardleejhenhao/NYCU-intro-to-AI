{
  "cells": [
    {
      "cell_type": "markdown",
      "metadata": {
        "id": "n3pvvTLPLV1h"
      },
      "source": [
        "# Colaboratory Jupyter Notebook\n",
        "It is an interactive notebooks that is a great teaching environment, powerful, shareable, and provides the ability to perform data visualization in the same environment.\n",
        "\n",
        "### **Jupyter Notebook**\n",
        "The Jupyter Notebook is an open-source web application that allows you to create and share documents that contain live code, equations, visualizations, and narrative text.\n",
        "\n",
        "### **Colaboratory Platform (Google Colab)**\n",
        "Colaboratory is a free Jupyter notebook environment that requires no setup and runs entirely in the cloud.\n",
        "\n",
        "It consists of a sequence of cells.The cells contains codes or text depending on the type of cell. There are two type of cell:\n",
        "\n",
        "\n",
        "1.   **Code Cells**:\n",
        "    * It takes codes(we will use python) as input.\n",
        "    * Codes can be executed by clicking on ▶ button on the left side.\n",
        "    * It will return the output just like a command line interface.\n",
        "2.   **Text Cells**:\n",
        "  * It takes markdown as input.\n",
        "  * It also has the support for latex.\n",
        "  * It is read|edit only cell, meaning it cannot be executed.\n",
        "\n",
        "\n",
        "\n",
        "**It has in-build support for:**\n",
        "* Markdown which is a markup language that is a superset of HTML.\n",
        "* Latex to render mathematical and scientific writing.\n",
        "* Python programming language to write code.\n",
        "\n",
        "### **⚠ Use `Ctrl`+ `Space` to get Autocompletion**"
      ]
    },
    {
      "cell_type": "markdown",
      "metadata": {
        "id": "NyJKYkbILjQN"
      },
      "source": [
        "# Python Overview\n",
        "\n",
        "Here we are using the \"print\" function to print the line \"Hello, World!\".\n",
        "\n",
        "*You may have the question, what is a function? We'll come back to that, when we'll be writing our own functions. Now, solve this exercise first*\n",
        "\n"
      ]
    },
    {
      "cell_type": "code",
      "execution_count": 1,
      "metadata": {
        "id": "Kcv3kht9LmX4"
      },
      "outputs": [
        {
          "name": "stdout",
          "output_type": "stream",
          "text": [
            "Hello, World!\n"
          ]
        }
      ],
      "source": [
        "print(\"Hello, World!\")"
      ]
    },
    {
      "cell_type": "markdown",
      "metadata": {
        "id": "GIafg8TlLqk6"
      },
      "source": [
        "❓ Q1. Use the `print` function to print the line \"My name is {Your Name}!\".\n",
        "\n",
        "⚒ Solve by replacing the name \"Ram\" with your name."
      ]
    },
    {
      "cell_type": "code",
      "execution_count": null,
      "metadata": {
        "id": "9GiD75xgMHxr"
      },
      "outputs": [],
      "source": [
        "# For example, if your name is Ram.\n",
        "print(\"My name is Ram\")"
      ]
    },
    {
      "cell_type": "markdown",
      "metadata": {
        "id": "gC-oNVoTMNMR"
      },
      "source": [
        "## Declaring Variables\n",
        "\n",
        "⚒ Declare a integer variable for the whole number 5 & use the `print` function to print the integer."
      ]
    },
    {
      "cell_type": "code",
      "execution_count": null,
      "metadata": {
        "id": "_w59IeYhMPcQ"
      },
      "outputs": [],
      "source": [
        "# Declare the int\n",
        "num_int = 5\n",
        "\n",
        "# Print the int\n",
        "print(num_int)"
      ]
    },
    {
      "cell_type": "markdown",
      "metadata": {
        "id": "vYIDZ3JBMRMv"
      },
      "source": [
        "**Python also support float number**\n",
        "\n",
        "⚒ Declare a float variable for the decimal number 4.5 & use the `print` function to print the integer."
      ]
    },
    {
      "cell_type": "code",
      "execution_count": null,
      "metadata": {
        "id": "W8KwSJznMSQv"
      },
      "outputs": [],
      "source": [
        "# Declare the float\n",
        "num_float = 4.5\n",
        "\n",
        "# Print the int\n",
        "print(num_float)"
      ]
    },
    {
      "cell_type": "markdown",
      "metadata": {
        "id": "udD9U7ILMT0P"
      },
      "source": [
        "**We'll play with numbers in the next module, let's just do a addition and a product for now**\n",
        "\n",
        "⚒ Declare a integer of value 10 and a float of value 5.0 & print their sum and product."
      ]
    },
    {
      "cell_type": "code",
      "execution_count": null,
      "metadata": {
        "id": "hT9DZuVBMU2n"
      },
      "outputs": [],
      "source": [
        "# Declare a integer and a float\n",
        "num_int = 10\n",
        "num_float = 5.0\n",
        "\n",
        "#Calculate the sum\n",
        "sum = num_int + num_float\n",
        "\n",
        "# Print sum\n",
        "print(\"The sum is:\")\n",
        "print(sum)\n",
        "\n",
        "# Print the product directly in a single step\n",
        "print(\"The product is:\")\n",
        "print(num_int * num_float)"
      ]
    },
    {
      "cell_type": "markdown",
      "metadata": {
        "id": "M5Q_7niNMW_l"
      },
      "source": [
        "### You can also declare a sentence/words(string of charectors)\n",
        "\n",
        "Solve this problem.\n",
        "\n",
        "❓Declare a `string` with {your name} as value.\n",
        "\n",
        "⚒ Solve by replacing the name \"Ram\" with your name.\n"
      ]
    },
    {
      "cell_type": "code",
      "execution_count": null,
      "metadata": {
        "id": "bckeAhCDMYHD"
      },
      "outputs": [],
      "source": [
        "#Declare the string for someone whose name is Ram\n",
        "name = \"Ram\"\n",
        "\n",
        "print(f\"My name is {name}\" )"
      ]
    },
    {
      "cell_type": "markdown",
      "metadata": {
        "id": "CvBWTodzMwA6"
      },
      "source": [
        "### Let's make is more interesting...\n",
        "\n",
        "⚒ Ask for the name from the user by using the `input` function and the greet them as \"Welcome, {user's name}!\" by using the `print` function."
      ]
    },
    {
      "cell_type": "code",
      "execution_count": null,
      "metadata": {
        "id": "kDUQgBuOM0V_"
      },
      "outputs": [],
      "source": [
        "# Ask for the users name\n",
        "name = input(\"You're name is: \")\n",
        "\n",
        "# Greet the user\n",
        "print(\"Welcome, \" + name + \"!\")"
      ]
    },
    {
      "cell_type": "markdown",
      "metadata": {
        "id": "RiCQz8deM4Cd"
      },
      "source": [
        "### ⚠ Did you noticed ?\n",
        "\n",
        "When you declare numbers(integers or float), you can simply assign it to a variable without getting any error.\n",
        "\n",
        "```\n",
        "num_int = 5\n",
        "num_float = 10.0\n",
        "\n",
        "```\n",
        "But when you are trying to declare a string,\n",
        "\n",
        "❎ You cannot do that, you'll get an error.\n",
        "```\n",
        "name = ram\n",
        "```\n",
        "✅ You have to use apostrophe,then it's fine.\n",
        "```\n",
        "name = \"ram\"\n",
        "```\n",
        "\n",
        "\n",
        "\n",
        "\n",
        "\n"
      ]
    },
    {
      "cell_type": "code",
      "execution_count": null,
      "metadata": {
        "id": "UPPZTS-GM-Ya"
      },
      "outputs": [],
      "source": [
        "# Try these here\n",
        "name = ram\n",
        "\n",
        "# name = \"ram\"\n",
        "\n",
        "print(name)"
      ]
    },
    {
      "cell_type": "markdown",
      "metadata": {
        "id": "KsOziY4iNCS8"
      },
      "source": [
        "### ⚠ Other issues.\n",
        "\n",
        "✅ You can do this:\n",
        "```\n",
        "num_int = 5\n",
        "num_float = 10.0\n",
        "print(num_int + num_float)\n",
        "```\n",
        "❎ You cannot do this:\n",
        "\n",
        "```\n",
        "num_int = 4\n",
        "string = \"8\"\n",
        "print(num_int + string)\n",
        "```"
      ]
    },
    {
      "cell_type": "code",
      "execution_count": null,
      "metadata": {
        "id": "rMaFSERVND_E"
      },
      "outputs": [],
      "source": [
        "#You get an type error when you are trying to add string with int or float, try here.\n",
        "num_int = 5\n",
        "num_str = \"5\"\n",
        "\n",
        "print(num_str + num_int)\n",
        "\n",
        "# print(num_str, num_int)"
      ]
    },
    {
      "cell_type": "markdown",
      "metadata": {
        "id": "d8QvdyCmNMhp"
      },
      "source": [
        "### **This is the python syntax.**\n",
        "\n",
        "Just like you cannot add a word with a number, in python you cannot add strings with numbers(integers/floats).\n",
        "\n",
        "When we assign some value to a variable inside single/double quotation,like:\n",
        "\n",
        "```\n",
        "string = \"some string value\"\n",
        "```\n",
        "Python assumes it as a string. We'll discuss why later.\n",
        "\n",
        "**A string can be any charector or digits.**\n",
        "\n",
        "So, when we write:\n",
        "\n",
        "```\n",
        "string = \"5\"\n",
        "```\n",
        "Here, 5 is not an integer but a string, that's why in the above example we get an `TypeError`.\n",
        "\n",
        "*Now before you ask what does `TypeError` mean and what the heck is type in python, I would like you to rosolve the above issues by yourself.*"
      ]
    },
    {
      "cell_type": "markdown",
      "metadata": {
        "id": "55GQfll8NVOb"
      },
      "source": [
        "## **Data Types in python**\n",
        "\n",
        "In Python, like in all programming languages, data types are used to classify one particular type of data. This is important because the specific data type you use will determine what values you can assign to it and what you can do to it (including what operations you can perform on it).\n",
        "\n",
        "**Python has the following data types built-in by default, in these categories:**\n",
        "\n",
        "| Categories | Data Type|\n",
        "|:---:|:---:|\n",
        "| Text Type | str |\n",
        "| Numeric Types |\tint, float, complex|\n",
        "| Sequence Types |\tlist, tuple, range|\n",
        "| Mapping Type |\tdict|\n",
        "| Set Types |\tset, frozenset|\n",
        "| Boolean Type |\tbool|\n",
        "| Binary Types |\tbytes, bytearray, memoryview|\n",
        "| None Type |\tNone |\n",
        "\n",
        "### Commonly used data types\n",
        "\n",
        "---\n",
        "\n",
        "\n",
        "\n",
        "*  String (str)\n",
        "*  Number (int, float)\n",
        "*  Array (list)\n",
        "*  Dictionary (dict)\n",
        "*  Boolean (bool)\n",
        "\n"
      ]
    },
    {
      "cell_type": "code",
      "execution_count": null,
      "metadata": {
        "id": "t0_kH00VNZOq"
      },
      "outputs": [],
      "source": [
        "# String (str)\n",
        "foo = \"Hello world\"\n",
        "\n",
        "# You can print the data types by using the function type, like this...\n",
        "print(type(foo))"
      ]
    },
    {
      "cell_type": "code",
      "execution_count": null,
      "metadata": {
        "id": "D485FdzxNael"
      },
      "outputs": [],
      "source": [
        "# Number (int)\n",
        "foo = 8\n",
        "\n",
        "# Number (float)\n",
        "bar = 7.0\n",
        "\n",
        "# You can print the data types by using the function type, like this...\n",
        "print(type(foo))\n",
        "print(type(bar))"
      ]
    },
    {
      "cell_type": "code",
      "execution_count": null,
      "metadata": {
        "id": "EP9OXF98NbuS"
      },
      "outputs": [],
      "source": [
        "# Array (list)\n",
        "foo = [\"apple\", \"banana\", \"cherry\"]\n",
        "\n",
        "# You can print the data types by using the function type, like this...\n",
        "print(type(foo))"
      ]
    },
    {
      "cell_type": "code",
      "execution_count": null,
      "metadata": {
        "id": "AvnlOLebNcsw"
      },
      "outputs": [],
      "source": [
        "# Boolean (bool)\n",
        "foo = True\n",
        "\n",
        "# You can print the data types by using the function type, like this...\n",
        "print(type(foo))"
      ]
    },
    {
      "cell_type": "code",
      "execution_count": null,
      "metadata": {
        "id": "fGoYhgeGNdtI"
      },
      "outputs": [],
      "source": [
        "# Object Notation/Dictionary (dict)\n",
        "foo = {\"name\": \"John\", \"age\": 36}\n",
        "\n",
        "# You can print the data types by using the function type, like this...\n",
        "print(type(foo))"
      ]
    },
    {
      "cell_type": "markdown",
      "metadata": {
        "id": "X88VnNRoNgV4"
      },
      "source": [
        "Play with this data types to get familiar with these data types, we'll learn more about this when we'll be using it.\n",
        "\n",
        "**In the next module we'll learn about how to think algorithmically, by learning vedic maths.I promise it'll not be boring maths that you did in your junior classes, it'll be fun & You'll learn to do calculations even faster than when you're using calculator.**"
      ]
    },
    {
      "cell_type": "markdown",
      "metadata": {
        "id": "wAJTaKRNNpBG"
      },
      "source": [
        "# Basic Operations in Python.\n",
        "\n",
        "⚒ Complete the exercises before going to next section."
      ]
    },
    {
      "cell_type": "markdown",
      "metadata": {
        "id": "jKGCaB67N3bu"
      },
      "source": [
        "## **Arithmatic Operators**\n",
        "\n",
        "⚒ Play with numbers by changing numbers and running the cell."
      ]
    },
    {
      "cell_type": "code",
      "execution_count": null,
      "metadata": {
        "colab": {
          "base_uri": "https://localhost:8080/"
        },
        "id": "-ds2M2HrN4nw",
        "outputId": "858c0f5c-cbcf-49d8-90cb-22b5542e6e3f"
      },
      "outputs": [
        {
          "name": "stdout",
          "output_type": "stream",
          "text": [
            "8\n"
          ]
        }
      ],
      "source": [
        "# Addition\n",
        "eight = 3 + 5 # 3 + 5 = 8\n",
        "\n",
        "print(eight)"
      ]
    },
    {
      "cell_type": "code",
      "execution_count": null,
      "metadata": {
        "colab": {
          "base_uri": "https://localhost:8080/"
        },
        "id": "m18IrMRRN5xz",
        "outputId": "fdc3c196-1b7e-47a6-9ac1-0a2b4416c819"
      },
      "outputs": [
        {
          "name": "stdout",
          "output_type": "stream",
          "text": [
            "2\n"
          ]
        }
      ],
      "source": [
        "# Subtraction\n",
        "\n",
        "two = 5 - 3 # 5 - 3 = 2\n",
        "\n",
        "print(two)"
      ]
    },
    {
      "cell_type": "code",
      "execution_count": null,
      "metadata": {
        "colab": {
          "base_uri": "https://localhost:8080/"
        },
        "id": "ojPsGKqNN-Hk",
        "outputId": "8ed2141f-f6b5-4ffb-c879-deae2c202096"
      },
      "outputs": [
        {
          "name": "stdout",
          "output_type": "stream",
          "text": [
            "10\n"
          ]
        }
      ],
      "source": [
        "# Multiplication\n",
        "\n",
        "ten = 5 * 2 # 5 × 2 = 10\n",
        "\n",
        "print(ten)"
      ]
    },
    {
      "cell_type": "code",
      "execution_count": null,
      "metadata": {
        "colab": {
          "base_uri": "https://localhost:8080/"
        },
        "id": "VTQLD7L8OAr4",
        "outputId": "f111e96b-29e5-492b-c844-91876e800dc1"
      },
      "outputs": [
        {
          "name": "stdout",
          "output_type": "stream",
          "text": [
            "4.0\n"
          ]
        }
      ],
      "source": [
        "# Division (Quotient)\n",
        "\n",
        "four = 12 / 3 # 12 ÷ 3 = 4\n",
        "\n",
        "print(four)"
      ]
    },
    {
      "cell_type": "code",
      "execution_count": null,
      "metadata": {
        "colab": {
          "base_uri": "https://localhost:8080/"
        },
        "id": "ILOqtDUQODcP",
        "outputId": "82e9a164-f328-40d9-c130-671a63eb6662"
      },
      "outputs": [
        {
          "name": "stdout",
          "output_type": "stream",
          "text": [
            "5\n"
          ]
        }
      ],
      "source": [
        "# Remainder in Division\n",
        "\n",
        "five = 17 % 6 # 17 ÷ 6 = (12+5) ÷ 6 = 2...5 [quotient...remainder]\n",
        "\n",
        "print(five)"
      ]
    },
    {
      "cell_type": "code",
      "execution_count": null,
      "metadata": {
        "colab": {
          "base_uri": "https://localhost:8080/"
        },
        "id": "OxmVbo9NONJD",
        "outputId": "d86e5bd7-b3ee-4d93-a5ba-ef62f4b55fbe"
      },
      "outputs": [
        {
          "name": "stdout",
          "output_type": "stream",
          "text": [
            "9\n"
          ]
        }
      ],
      "source": [
        "# Exponents\n",
        "\n",
        "nine = 3**2 # 3^2 = 3 × 3 = 9\n",
        "print(nine)"
      ]
    },
    {
      "cell_type": "markdown",
      "metadata": {
        "id": "KuL4mh1zOPcv"
      },
      "source": [
        "\n",
        "\n",
        "---\n",
        "\n",
        "## Using Operators with Strings"
      ]
    },
    {
      "cell_type": "code",
      "execution_count": null,
      "metadata": {
        "colab": {
          "base_uri": "https://localhost:8080/"
        },
        "id": "2hzVp64dOQdB",
        "outputId": "15a82fe2-b4eb-49e4-8f62-204099cbce72"
      },
      "outputs": [
        {
          "name": "stdout",
          "output_type": "stream",
          "text": [
            "hello world\n"
          ]
        }
      ],
      "source": [
        "#Concatenation (adding up)\n",
        "\n",
        "helloworld = \"hello\" + \" \" + \"world\" # \"hello world\"\n",
        "\n",
        "print(helloworld)"
      ]
    },
    {
      "cell_type": "code",
      "execution_count": null,
      "metadata": {
        "colab": {
          "base_uri": "https://localhost:8080/"
        },
        "id": "DXogwyKkOSU2",
        "outputId": "6873d475-c4c7-433a-8f51-2af49639f978"
      },
      "outputs": [
        {
          "name": "stdout",
          "output_type": "stream",
          "text": [
            "hello\n",
            "hello\n",
            "hello\n",
            "hello\n",
            "hello\n",
            "hello\n",
            "hello\n",
            "hello\n",
            "hello\n",
            "hello\n",
            "\n"
          ]
        }
      ],
      "source": [
        "# Repeatation\n",
        "\n",
        "lotsofhellos = \"hello\\n\" * 10 # \\n equates to new line.\n",
        "\n",
        "print(lotsofhellos)"
      ]
    },
    {
      "cell_type": "markdown",
      "metadata": {
        "id": "_lNeQpUAOUiO"
      },
      "source": [
        "\n",
        "\n",
        "---\n",
        "\n",
        "## Using Operators with Lists"
      ]
    },
    {
      "cell_type": "code",
      "execution_count": null,
      "metadata": {
        "colab": {
          "base_uri": "https://localhost:8080/"
        },
        "id": "0_zZv--DOVd2",
        "outputId": "60dba9b6-85a6-4d5c-bb3a-298dec54094c"
      },
      "outputs": [
        {
          "name": "stdout",
          "output_type": "stream",
          "text": [
            "[1, 3, 5, 7, 2, 4, 6, 8]\n"
          ]
        }
      ],
      "source": [
        "# Joining list items together.\n",
        "\n",
        "even_numbers = [2, 4, 6, 8]\n",
        "odd_numbers = [1, 3, 5, 7]\n",
        "all_numbers = odd_numbers + even_numbers\n",
        "\n",
        "print(all_numbers)"
      ]
    },
    {
      "cell_type": "code",
      "execution_count": null,
      "metadata": {
        "colab": {
          "base_uri": "https://localhost:8080/"
        },
        "id": "87mPHt5TOZKU",
        "outputId": "bd4d53c6-138c-4f9d-e61f-5d982aab96b2"
      },
      "outputs": [
        {
          "name": "stdout",
          "output_type": "stream",
          "text": [
            "[1, 2, 3, 1, 2, 3, 1, 2, 3]\n"
          ]
        }
      ],
      "source": [
        "# Repeatation\n",
        "\n",
        "print([1, 2, 3] * 3)"
      ]
    },
    {
      "cell_type": "markdown",
      "metadata": {
        "id": "9GF2NMMfOboY"
      },
      "source": [
        "---\n",
        "## Boolean operators"
      ]
    },
    {
      "cell_type": "code",
      "execution_count": null,
      "metadata": {
        "colab": {
          "base_uri": "https://localhost:8080/"
        },
        "id": "PTtHaF20OclK",
        "outputId": "bea72291-93ba-4877-dea9-200d37a28817"
      },
      "outputs": [
        {
          "name": "stdout",
          "output_type": "stream",
          "text": [
            "x equals two!\n"
          ]
        }
      ],
      "source": [
        "# Boolean Conditionals\n",
        "\n",
        "x = 2\n",
        "if x == 2:\n",
        "    print(\"x equals two!\")\n",
        "else:\n",
        "    print(\"x does not equal to two.\")"
      ]
    },
    {
      "cell_type": "markdown",
      "metadata": {
        "id": "7mf7ALHlOfUD"
      },
      "source": [
        "## Loop Operators"
      ]
    },
    {
      "cell_type": "markdown",
      "metadata": {
        "id": "vXTdyWiHOh_M"
      },
      "source": [
        "### **For Loop**"
      ]
    },
    {
      "cell_type": "code",
      "execution_count": null,
      "metadata": {
        "id": "v1L_JdgwPMVl"
      },
      "outputs": [],
      "source": [
        "## Print all the prime numbers upto 10 hardcoded.\n",
        "\n",
        "primes = [2, 3, 5, 7]\n",
        "for prime in primes:\n",
        "    print(prime)"
      ]
    },
    {
      "cell_type": "code",
      "execution_count": null,
      "metadata": {
        "id": "9ynBg17VPN0r"
      },
      "outputs": [],
      "source": [
        "## Using range functions in a for loop\n",
        "\n",
        "for x in range(3, 6):\n",
        "    print(x) # Prints out 3,4,5"
      ]
    },
    {
      "cell_type": "markdown",
      "metadata": {
        "id": "72-Wc3YjPO43"
      },
      "source": [
        "### **While Loop**"
      ]
    },
    {
      "cell_type": "code",
      "execution_count": null,
      "metadata": {
        "id": "iFfl_L3tPPvE"
      },
      "outputs": [],
      "source": [
        "count = 0\n",
        "while count < 5:\n",
        "    print(f\"Count value is {count}\")\n",
        "    count += 1\n",
        "else:\n",
        "    print(f\"Count value reached {count}\")"
      ]
    },
    {
      "cell_type": "markdown",
      "metadata": {
        "id": "wZumfQ_WOtB7"
      },
      "source": [
        "# Programming Paradigm or methodology\n",
        "- Functional Programming\n",
        "- Object oriented Programming\n",
        "\n",
        "We'll learn about both these design philosophies in these module.\n",
        "\n"
      ]
    },
    {
      "cell_type": "markdown",
      "metadata": {
        "id": "h91qkopZOy_F"
      },
      "source": [
        "## **Functions**\n",
        "\n",
        "Functions are a convenient way to divide your code into useful blocks, allowing us to order our code, make it more readable, reuse it and save some time. Also functions are a key way to define interfaces so programmers can share their code.\n",
        "\n",
        "A typical function in python looks like:\n",
        "```python\n",
        "def functionalBlock():\n",
        "  print(\"Hello World\")\n",
        "  ...\n",
        "```"
      ]
    },
    {
      "cell_type": "code",
      "execution_count": null,
      "metadata": {
        "id": "iaMJBk6SPbAG"
      },
      "outputs": [],
      "source": [
        "## Let's create a function that takes two numbers and returns their sum.\n",
        "\n",
        "def sumOfTwoNumbers(a, b):\n",
        "    return a + b\n",
        "\n",
        "sumOfTwoNumbers(12, 3)"
      ]
    },
    {
      "cell_type": "markdown",
      "metadata": {
        "id": "CQ2C8cQGPjaD"
      },
      "source": [
        "## **Classes and Objects**\n",
        "\n",
        "Objects are an encapsulation of variables and functions into a single entity. Objects get their variables and functions from classes. Classes are essentially a template to create your objects.\n",
        "\n",
        "A very basic class in python would look something like this:"
      ]
    },
    {
      "cell_type": "code",
      "execution_count": null,
      "metadata": {
        "id": "a-48LaHsPmiR"
      },
      "outputs": [],
      "source": [
        "class MyClass:\n",
        "    variable = \"blah\"\n",
        "\n",
        "    def func(self):\n",
        "        print(f\"The message inside the class is: {self.variable}.\")\n",
        "\n",
        "# Accessing Object Variables\n",
        "var = MyClass.variable\n",
        "print(var)\n",
        "\n",
        "# Accessing Object Functions\n",
        "cls = MyClass()\n",
        "cls.func()\n",
        "\n",
        "## Or you can simply call it directly.\n",
        "MyClass().function()"
      ]
    },
    {
      "cell_type": "markdown",
      "metadata": {
        "id": "31a8G6yxPpPN"
      },
      "source": [
        "### A short note on **Self** argument:\n",
        "\n",
        "> Self is the first argument to be passed in Constructor and Instance Method.\n",
        "\n",
        "`self` represents the instance of the class or object. By using the `self`  we can access the attributes (variables) and methods (functions) of the class in python. It binds the attributes with the given arguments. Self is a convention and not a Python keyword ,So anything can be used in the place of self but it is advised to use self for readibility purposes.\n",
        "\n",
        "> Self is always pointing to Current Object.\n",
        "\n",
        "As we have learned already that a class is essentially a template to create your object, let's understand what that means by applying it."
      ]
    },
    {
      "cell_type": "code",
      "execution_count": null,
      "metadata": {
        "id": "rv0NEAFOPq4m"
      },
      "outputs": [],
      "source": [
        "# Creating template.\n",
        "class TemplateClass:\n",
        "    variable = \"foo\"\n",
        "\n",
        "    def func(self):\n",
        "        print(f\"The message inside this object is: {self.variable}.\")\n",
        "\n",
        "# Creating objects\n",
        "objx = TemplateClass()\n",
        "objy = TemplateClass()\n",
        "\n",
        "# Changing the value of the variable in an object\n",
        "objy.variable = \"bar\"\n",
        "\n",
        "# Let's run their respective functions\n",
        "objx.func()\n",
        "objy.func()"
      ]
    },
    {
      "cell_type": "markdown",
      "metadata": {
        "id": "Km_OJMrMPsW4"
      },
      "source": [
        "### **Init function**\n",
        "\n",
        "The `__init__()` function, is a special function that is called when the class is being initiated. It's used for assigning values in a class."
      ]
    },
    {
      "cell_type": "code",
      "execution_count": null,
      "metadata": {
        "id": "TKwQkVLNPtgI"
      },
      "outputs": [],
      "source": [
        "class NumberHolder:\n",
        "\n",
        "   def __init__(self, number):\n",
        "       self.number = number\n",
        "\n",
        "   def returnNumber(self):\n",
        "       return self.number\n",
        "\n",
        "var = NumberHolder(8)\n",
        "print(var.returnNumber()) # Prints '7'"
      ]
    },
    {
      "cell_type": "markdown",
      "metadata": {
        "id": "-OKOlB2hPzXu"
      },
      "source": [
        "## Python Dictionaries (dict)\n",
        "A dictionary is a data type similar to arrays, but works with keys and values instead of indexes. Each value stored in a dictionary can be accessed using a key, which is any type of object (a string, a number, a list, etc.) instead of using its index to address it.\n",
        "\n",
        "If you've worked with JSON(JavaScript Object Notation) before, python dictionary is almost the same. If you don't know json, you will! as we start working with json.\n",
        "\n",
        "For example, a database of phone numbers could be stored using a dictionary like this:"
      ]
    },
    {
      "cell_type": "code",
      "execution_count": null,
      "metadata": {
        "id": "ODH2MaLXP02c"
      },
      "outputs": [],
      "source": [
        "# Declaring the dict. An empty dict can declared too.\n",
        "phonebook = {\n",
        "    \"John\": 938477566,\n",
        "    \"Jack\": 938377264,\n",
        "    \"Jill\": 947662781,\n",
        "}\n",
        "\n",
        "# Print the entire dict\n",
        "print(phonebook)\n",
        "\n",
        "\n",
        "# You can add new value pairs to dict like this:\n",
        "phonebook[\"James\"] = 947662581\n",
        "\n",
        "\n",
        "# You can delete a new value pair like this:\n",
        "del phonebook[\"John\"]\n",
        "\n",
        "# Or like this\n",
        "# phonebook.pop(\"Jack\")\n",
        "\n",
        "# Or delete entire dict\n",
        "# phonebook.clear()\n",
        "\n",
        "\n",
        "# Print one key value pair\n",
        "print(phonebook[\"Jill\"])\n",
        "\n",
        "# You can loop over the dict value pairs like this:\n",
        "for name, number in phonebook.items():\n",
        "    print(f\"Phone number of {name} is {number}\")"
      ]
    },
    {
      "cell_type": "markdown",
      "metadata": {
        "id": "7vXTy7C1Q9W8"
      },
      "source": [
        "# Python Modules and Packages\n",
        "\n",
        "In programming, a module is a piece of software that has a specific functionality. For example, when building a ping pong game, one module may be responsible for the game logic, and another module draws the game on the screen.\n",
        "\n",
        "Think of Modules/Packages/Libraries as programs written by other programmer to be used by you. Simple!\n",
        "\n",
        "You have to `import` a module before using it."
      ]
    },
    {
      "cell_type": "code",
      "execution_count": null,
      "metadata": {
        "id": "kSPdP36_Q-uG"
      },
      "outputs": [],
      "source": [
        "# Using built-in modules\n",
        "import json\n",
        "\n",
        "# Data to be written\n",
        "dictionary = {\n",
        "    \"name\": \"johndoe\",\n",
        "    \"rollno\": 8,\n",
        "    \"cgpa\": 9.6,\n",
        "    \"phonenumber\": 9876543210,\n",
        "}\n",
        "\n",
        "# Serializing json\n",
        "json_object = json.dumps(dictionary, indent=4)\n",
        "\n",
        "# Writing to sample.json to your current directory\n",
        "# Click on folder icon on the left side to see the current directory.\n",
        "with open(\"sample.json\", \"w\") as outfile:\n",
        "    outfile.write(json_object)"
      ]
    },
    {
      "cell_type": "code",
      "execution_count": null,
      "metadata": {
        "id": "e5XliXH0RADd"
      },
      "outputs": [],
      "source": [
        "# Opening JSON file\n",
        "with open('sample.json', 'r') as openfile:\n",
        "\n",
        "    # Reading from json file\n",
        "    json_object = json.load(openfile)\n",
        "\n",
        "print(json_object)\n",
        "\n",
        "# While working in python there is no json, so it uses the dict datatype\n",
        "print(type(json_object))"
      ]
    },
    {
      "cell_type": "markdown",
      "metadata": {
        "id": "4j3oiwt4RBzy"
      },
      "source": [
        "## **External Libraries**\n",
        "\n",
        "---\n",
        "\n"
      ]
    },
    {
      "cell_type": "markdown",
      "metadata": {
        "id": "qI3lRKwJRDdc"
      },
      "source": [
        "## [Numpy](https://numpy.org/doc/stable/)\n",
        "Numpy arrays are great alternatives to Python Lists. Some of the key advantages of Numpy arrays are that they are fast, easy to work with, and give users the opportunity to perform calculations across entire arrays."
      ]
    },
    {
      "cell_type": "code",
      "execution_count": null,
      "metadata": {
        "id": "VXjKgFlOREoj"
      },
      "outputs": [],
      "source": [
        "# Create 2 new python lists, height and weight\n",
        "height = [1.87,  1.87, 1.82, 1.91, 1.90, 1.85]\n",
        "weight = [81.65, 97.52, 95.25, 92.98, 86.18, 88.45]\n",
        "\n",
        "# Import the numpy package as np\n",
        "import numpy as np\n",
        "\n",
        "# Create numpy arrays from height and weight\n",
        "np_height = np.array(height)\n",
        "print(f\"np_height Array has the value of {np_height} & datatype of {type(np_height)}\")\n",
        "np_weight = np.array(weight)\n",
        "print(f\"np_weight Array has the value of {np_weight} & datatype of {type(np_weight)}\")\n",
        "\n",
        "# We can calculate Elementwise, for example:\n",
        "# Let's calculate bmi based on height and weights.\n",
        "bmi = np_weight / np_height**2\n",
        "\n",
        "# Print the result\n",
        "print(f\"BMI: {bmi}\")\n",
        "\n",
        "# Print only those observations above 24\n",
        "# print(bmi[bmi > 24])"
      ]
    },
    {
      "cell_type": "markdown",
      "metadata": {
        "id": "GnPw62TSRJbl"
      },
      "source": [
        "# Reference\n",
        "\n",
        "- https://github.com/4rpan/learn-python/tree/main"
      ]
    }
  ],
  "metadata": {
    "colab": {
      "provenance": [],
      "toc_visible": true
    },
    "kernelspec": {
      "display_name": "vc",
      "language": "python",
      "name": "python3"
    },
    "language_info": {
      "codemirror_mode": {
        "name": "ipython",
        "version": 3
      },
      "file_extension": ".py",
      "mimetype": "text/x-python",
      "name": "python",
      "nbconvert_exporter": "python",
      "pygments_lexer": "ipython3",
      "version": "3.10.10"
    }
  },
  "nbformat": 4,
  "nbformat_minor": 0
}
